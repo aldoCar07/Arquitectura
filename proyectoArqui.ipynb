{
 "cells": [
  {
   "cell_type": "code",
   "execution_count": 0,
   "metadata": {
    "application/vnd.databricks.v1+cell": {
     "cellMetadata": {
      "byteLimit": 2048000,
      "rowLimit": 10000
     },
     "inputWidgets": {},
     "nuid": "19009849-f286-4f3e-a920-217b15c365df",
     "showTitle": false,
     "title": ""
    }
   },
   "outputs": [
    {
     "output_type": "display_data",
     "data": {
      "text/html": [
       "<style scoped>\n",
       "  .table-result-container {\n",
       "    max-height: 300px;\n",
       "    overflow: auto;\n",
       "  }\n",
       "  table, th, td {\n",
       "    border: 1px solid black;\n",
       "    border-collapse: collapse;\n",
       "  }\n",
       "  th, td {\n",
       "    padding: 5px;\n",
       "  }\n",
       "  th {\n",
       "    text-align: left;\n",
       "  }\n",
       "</style><div class='table-result-container'><table class='table-result'><thead style='background-color: white'><tr><th>path</th><th>name</th><th>size</th><th>modificationTime</th></tr></thead><tbody><tr><td>dbfs:/FileStore/tables/HockeyTimeline/training_1910.csv</td><td>training_1910.csv</td><td>10947</td><td>1715898065000</td></tr><tr><td>dbfs:/FileStore/tables/HockeyTimeline/training_1920.csv</td><td>training_1920.csv</td><td>179545</td><td>1715898065000</td></tr><tr><td>dbfs:/FileStore/tables/HockeyTimeline/training_1930.csv</td><td>training_1930.csv</td><td>334747</td><td>1715898063000</td></tr><tr><td>dbfs:/FileStore/tables/HockeyTimeline/training_1940.csv</td><td>training_1940.csv</td><td>279062</td><td>1715898064000</td></tr><tr><td>dbfs:/FileStore/tables/HockeyTimeline/training_1950.csv</td><td>training_1950.csv</td><td>348686</td><td>1715898063000</td></tr><tr><td>dbfs:/FileStore/tables/HockeyTimeline/training_1960.csv</td><td>training_1960.csv</td><td>429525</td><td>1715898063000</td></tr><tr><td>dbfs:/FileStore/tables/HockeyTimeline/training_1970.csv</td><td>training_1970.csv</td><td>1043636</td><td>1715898064000</td></tr><tr><td>dbfs:/FileStore/tables/HockeyTimeline/training_1980.csv</td><td>training_1980.csv</td><td>1406180</td><td>1715898062000</td></tr><tr><td>dbfs:/FileStore/tables/HockeyTimeline/training_1990.csv</td><td>training_1990.csv</td><td>1607022</td><td>1715898063000</td></tr><tr><td>dbfs:/FileStore/tables/HockeyTimeline/training_2000.csv</td><td>training_2000.csv</td><td>1809227</td><td>1715898065000</td></tr><tr><td>dbfs:/FileStore/tables/HockeyTimeline/training_2010.csv</td><td>training_2010.csv</td><td>1961637</td><td>1715898063000</td></tr><tr><td>dbfs:/FileStore/tables/HockeyTimeline/training_2020.csv</td><td>training_2020.csv</td><td>548423</td><td>1715898062000</td></tr></tbody></table></div>"
      ]
     },
     "metadata": {
      "application/vnd.databricks.v1+output": {
       "addedWidgets": {},
       "aggData": [],
       "aggError": "",
       "aggOverflow": false,
       "aggSchema": [],
       "aggSeriesLimitReached": false,
       "aggType": "",
       "arguments": {},
       "columnCustomDisplayInfos": {},
       "data": [
        [
         "dbfs:/FileStore/tables/HockeyTimeline/training_1910.csv",
         "training_1910.csv",
         10947,
         1715898065000
        ],
        [
         "dbfs:/FileStore/tables/HockeyTimeline/training_1920.csv",
         "training_1920.csv",
         179545,
         1715898065000
        ],
        [
         "dbfs:/FileStore/tables/HockeyTimeline/training_1930.csv",
         "training_1930.csv",
         334747,
         1715898063000
        ],
        [
         "dbfs:/FileStore/tables/HockeyTimeline/training_1940.csv",
         "training_1940.csv",
         279062,
         1715898064000
        ],
        [
         "dbfs:/FileStore/tables/HockeyTimeline/training_1950.csv",
         "training_1950.csv",
         348686,
         1715898063000
        ],
        [
         "dbfs:/FileStore/tables/HockeyTimeline/training_1960.csv",
         "training_1960.csv",
         429525,
         1715898063000
        ],
        [
         "dbfs:/FileStore/tables/HockeyTimeline/training_1970.csv",
         "training_1970.csv",
         1043636,
         1715898064000
        ],
        [
         "dbfs:/FileStore/tables/HockeyTimeline/training_1980.csv",
         "training_1980.csv",
         1406180,
         1715898062000
        ],
        [
         "dbfs:/FileStore/tables/HockeyTimeline/training_1990.csv",
         "training_1990.csv",
         1607022,
         1715898063000
        ],
        [
         "dbfs:/FileStore/tables/HockeyTimeline/training_2000.csv",
         "training_2000.csv",
         1809227,
         1715898065000
        ],
        [
         "dbfs:/FileStore/tables/HockeyTimeline/training_2010.csv",
         "training_2010.csv",
         1961637,
         1715898063000
        ],
        [
         "dbfs:/FileStore/tables/HockeyTimeline/training_2020.csv",
         "training_2020.csv",
         548423,
         1715898062000
        ]
       ],
       "datasetInfos": [],
       "dbfsResultPath": null,
       "isJsonSchema": true,
       "metadata": {
        "isDbfsCommandResult": false
       },
       "overflow": false,
       "plotOptions": {
        "customPlotOptions": {},
        "displayType": "table",
        "pivotAggregation": null,
        "pivotColumns": null,
        "xColumns": null,
        "yColumns": null
       },
       "removedWidgets": [],
       "schema": [
        {
         "metadata": "{}",
         "name": "path",
         "type": "\"string\""
        },
        {
         "metadata": "{}",
         "name": "name",
         "type": "\"string\""
        },
        {
         "metadata": "{}",
         "name": "size",
         "type": "\"long\""
        },
        {
         "metadata": "{}",
         "name": "modificationTime",
         "type": "\"long\""
        }
       ],
       "type": "table"
      }
     },
     "output_type": "display_data"
    }
   ],
   "source": [
    "%fs ls /FileStore/tables/HockeyTimeline/"
   ]
  },
  {
   "cell_type": "code",
   "execution_count": 0,
   "metadata": {
    "application/vnd.databricks.v1+cell": {
     "cellMetadata": {
      "byteLimit": 2048000,
      "rowLimit": 10000
     },
     "inputWidgets": {},
     "nuid": "07be7818-9d3c-4200-99eb-2be5e7214cea",
     "showTitle": false,
     "title": ""
    }
   },
   "outputs": [],
   "source": [
    "from pyspark.sql.types import *\n",
    "from pyspark.sql.functions import *\n",
    "from time import sleep\n",
    "\n",
    "inputPath = \"/FileStore/tables/HockeyTimeline/\"\n",
    "\n",
    "\n",
    "# Define the schema to speed up processing\n",
    "jsonSchema = StructType([ \n",
    "    StructField(\"season\", IntegerType(), True),\n",
    "    StructField(\"date\", TimestampType(), True),\n",
    "    StructField(\"home_team_abbr\", StringType(), True),\n",
    "    StructField(\"away_team_abbr\", StringType(), True),\n",
    "    StructField(\"home_team_pregame_rating\", FloatType(), True),\n",
    "    StructField(\"away_team_pregame_rating\", FloatType(), True),\n",
    "    StructField(\"home_team_winprob\", FloatType(), True),\n",
    "    StructField(\"away_team_winprob\", FloatType(), True),\n",
    "    StructField(\"overtime_prob\", FloatType(), True),\n",
    "    StructField(\"home_team_expected_points\", FloatType(), True),\n",
    "    StructField(\"away_team_expected_points\", FloatType(), True),\n",
    "    StructField(\"home_team_won\", IntegerType(),True),\n",
    "    StructField(\"decade\", IntegerType(), True)\n",
    "])\n",
    "\n",
    "\n",
    "\n",
    "streamingInputDF = (\n",
    "  spark\n",
    "    .readStream\n",
    "    .option(\"maxFilesPerTrigger\", 1)\n",
    "    .option(\"header\", \"true\")\n",
    "    .schema(jsonSchema)\n",
    "    .format(\"csv\")\n",
    "    .load(inputPath)\n",
    ")"
   ]
  },
  {
   "cell_type": "code",
   "execution_count": 0,
   "metadata": {
    "application/vnd.databricks.v1+cell": {
     "cellMetadata": {
      "byteLimit": 2048000,
      "rowLimit": 10000
     },
     "inputWidgets": {},
     "nuid": "81479870-0414-4d6f-90bd-7d7306de7440",
     "showTitle": false,
     "title": ""
    }
   },
   "outputs": [],
   "source": [
    "query = (\n",
    "    streamingInputDF\n",
    "    .writeStream\n",
    "    .format(\"memory\")\n",
    "    .queryName(\"complete\")\n",
    "    .trigger(processingTime='10 seconds')\n",
    "    .start()\n",
    ")"
   ]
  },
  {
   "cell_type": "code",
   "execution_count": 0,
   "metadata": {
    "application/vnd.databricks.v1+cell": {
     "cellMetadata": {
      "byteLimit": 2048000,
      "implicitDf": true,
      "rowLimit": 10000
     },
     "inputWidgets": {},
     "nuid": "9a839a90-eb3e-4376-9d65-e98a5c2f5303",
     "showTitle": false,
     "title": ""
    }
   },
   "outputs": [
    {
     "output_type": "display_data",
     "data": {
      "text/html": [
       "<style scoped>\n",
       "  .table-result-container {\n",
       "    max-height: 300px;\n",
       "    overflow: auto;\n",
       "  }\n",
       "  table, th, td {\n",
       "    border: 1px solid black;\n",
       "    border-collapse: collapse;\n",
       "  }\n",
       "  th, td {\n",
       "    padding: 5px;\n",
       "  }\n",
       "  th {\n",
       "    text-align: left;\n",
       "  }\n",
       "</style><div class='table-result-container'><table class='table-result'><thead style='background-color: white'><tr><th>count(1)</th></tr></thead><tbody><tr><td>17142</td></tr></tbody></table></div>"
      ]
     },
     "metadata": {
      "application/vnd.databricks.v1+output": {
       "addedWidgets": {},
       "aggData": [],
       "aggError": "",
       "aggOverflow": false,
       "aggSchema": [],
       "aggSeriesLimitReached": false,
       "aggType": "",
       "arguments": {},
       "columnCustomDisplayInfos": {},
       "data": [
        [
         17142
        ]
       ],
       "datasetInfos": [],
       "dbfsResultPath": null,
       "isJsonSchema": true,
       "metadata": {},
       "overflow": false,
       "plotOptions": {
        "customPlotOptions": {},
        "displayType": "table",
        "pivotAggregation": null,
        "pivotColumns": null,
        "xColumns": null,
        "yColumns": null
       },
       "removedWidgets": [],
       "schema": [
        {
         "metadata": "{\"__autoGeneratedAlias\":\"true\"}",
         "name": "count(1)",
         "type": "\"long\""
        }
       ],
       "type": "table"
      }
     },
     "output_type": "display_data"
    }
   ],
   "source": [
    "%sql select count(*) from complete"
   ]
  },
  {
   "cell_type": "code",
   "execution_count": 0,
   "metadata": {
    "application/vnd.databricks.v1+cell": {
     "cellMetadata": {
      "byteLimit": 2048000,
      "rowLimit": 10000
     },
     "inputWidgets": {},
     "nuid": "d131bf4f-8f39-4d83-893b-da91688202e0",
     "showTitle": false,
     "title": ""
    }
   },
   "outputs": [],
   "source": [
    "# media y la desviación estándar de la puntuación esperada del equipo local"
   ]
  },
  {
   "cell_type": "code",
   "execution_count": 0,
   "metadata": {
    "application/vnd.databricks.v1+cell": {
     "cellMetadata": {
      "byteLimit": 2048000,
      "implicitDf": true,
      "rowLimit": 10000
     },
     "inputWidgets": {},
     "nuid": "e6188857-f212-4baa-bb59-8dc1d7507eed",
     "showTitle": false,
     "title": ""
    }
   },
   "outputs": [
    {
     "output_type": "display_data",
     "data": {
      "text/html": [
       "<style scoped>\n",
       "  .table-result-container {\n",
       "    max-height: 300px;\n",
       "    overflow: auto;\n",
       "  }\n",
       "  table, th, td {\n",
       "    border: 1px solid black;\n",
       "    border-collapse: collapse;\n",
       "  }\n",
       "  th, td {\n",
       "    padding: 5px;\n",
       "  }\n",
       "  th {\n",
       "    text-align: left;\n",
       "  }\n",
       "</style><div class='table-result-container'><table class='table-result'><thead style='background-color: white'><tr><th>avg_home_expected_points</th><th>stddev_home_expected_points</th></tr></thead><tbody><tr><td>1.2351535209668112</td><td>0.18519690093223176</td></tr></tbody></table></div>"
      ]
     },
     "metadata": {
      "application/vnd.databricks.v1+output": {
       "addedWidgets": {},
       "aggData": [],
       "aggError": "",
       "aggOverflow": false,
       "aggSchema": [],
       "aggSeriesLimitReached": false,
       "aggType": "",
       "arguments": {},
       "columnCustomDisplayInfos": {},
       "data": [
        [
         1.2351535209668112,
         0.18519690093223176
        ]
       ],
       "datasetInfos": [],
       "dbfsResultPath": null,
       "isJsonSchema": true,
       "metadata": {},
       "overflow": false,
       "plotOptions": {
        "customPlotOptions": {},
        "displayType": "table",
        "pivotAggregation": null,
        "pivotColumns": null,
        "xColumns": null,
        "yColumns": null
       },
       "removedWidgets": [],
       "schema": [
        {
         "metadata": "{}",
         "name": "avg_home_expected_points",
         "type": "\"double\""
        },
        {
         "metadata": "{}",
         "name": "stddev_home_expected_points",
         "type": "\"double\""
        }
       ],
       "type": "table"
      }
     },
     "output_type": "display_data"
    }
   ],
   "source": [
    "%sql select avg(home_team_expected_points) as avg_home_expected_points, stddev(home_team_expected_points) as stddev_home_expected_points from complete"
   ]
  },
  {
   "cell_type": "code",
   "execution_count": 0,
   "metadata": {
    "application/vnd.databricks.v1+cell": {
     "cellMetadata": {
      "byteLimit": 2048000,
      "rowLimit": 10000
     },
     "inputWidgets": {},
     "nuid": "51472f12-6baf-43ad-990a-1d601a0dd4af",
     "showTitle": false,
     "title": ""
    }
   },
   "outputs": [],
   "source": [
    "#la fecha más antigua y más reciente en tu conjunto de datos"
   ]
  },
  {
   "cell_type": "code",
   "execution_count": 0,
   "metadata": {
    "application/vnd.databricks.v1+cell": {
     "cellMetadata": {
      "byteLimit": 2048000,
      "implicitDf": true,
      "rowLimit": 10000
     },
     "inputWidgets": {},
     "nuid": "5e0ad2fe-580b-4709-9cb6-246e47e00b32",
     "showTitle": false,
     "title": ""
    }
   },
   "outputs": [
    {
     "output_type": "display_data",
     "data": {
      "text/html": [
       "<style scoped>\n",
       "  .table-result-container {\n",
       "    max-height: 300px;\n",
       "    overflow: auto;\n",
       "  }\n",
       "  table, th, td {\n",
       "    border: 1px solid black;\n",
       "    border-collapse: collapse;\n",
       "  }\n",
       "  th, td {\n",
       "    padding: 5px;\n",
       "  }\n",
       "  th {\n",
       "    text-align: left;\n",
       "  }\n",
       "</style><div class='table-result-container'><table class='table-result'><thead style='background-color: white'><tr><th>min_date</th><th>max_date</th></tr></thead><tbody><tr><td>1929-11-14T00:00:00.000+0000</td><td>2022-06-26T00:00:00.000+0000</td></tr></tbody></table></div>"
      ]
     },
     "metadata": {
      "application/vnd.databricks.v1+output": {
       "addedWidgets": {},
       "aggData": [],
       "aggError": "",
       "aggOverflow": false,
       "aggSchema": [],
       "aggSeriesLimitReached": false,
       "aggType": "",
       "arguments": {},
       "columnCustomDisplayInfos": {},
       "data": [
        [
         "1929-11-14T00:00:00.000+0000",
         "2022-06-26T00:00:00.000+0000"
        ]
       ],
       "datasetInfos": [],
       "dbfsResultPath": null,
       "isJsonSchema": true,
       "metadata": {},
       "overflow": false,
       "plotOptions": {
        "customPlotOptions": {},
        "displayType": "table",
        "pivotAggregation": null,
        "pivotColumns": null,
        "xColumns": null,
        "yColumns": null
       },
       "removedWidgets": [],
       "schema": [
        {
         "metadata": "{}",
         "name": "min_date",
         "type": "\"timestamp\""
        },
        {
         "metadata": "{}",
         "name": "max_date",
         "type": "\"timestamp\""
        }
       ],
       "type": "table"
      }
     },
     "output_type": "display_data"
    }
   ],
   "source": [
    "%sql SELECT MIN(date) AS min_date, MAX(date) AS max_date FROM complete;"
   ]
  },
  {
   "cell_type": "code",
   "execution_count": 0,
   "metadata": {
    "application/vnd.databricks.v1+cell": {
     "cellMetadata": {
      "byteLimit": 2048000,
      "rowLimit": 10000
     },
     "inputWidgets": {},
     "nuid": "8d1be605-59f9-482f-9d4c-cb1f54d1377a",
     "showTitle": false,
     "title": ""
    }
   },
   "outputs": [],
   "source": [
    "# la diferencia promedio entre las probabilidades de ganar del equipo local y del equipo visitante"
   ]
  },
  {
   "cell_type": "code",
   "execution_count": 0,
   "metadata": {
    "application/vnd.databricks.v1+cell": {
     "cellMetadata": {
      "byteLimit": 2048000,
      "implicitDf": true,
      "rowLimit": 10000
     },
     "inputWidgets": {},
     "nuid": "60733ed6-1865-48c2-9bab-34c56f46d269",
     "showTitle": false,
     "title": ""
    }
   },
   "outputs": [
    {
     "output_type": "display_data",
     "data": {
      "text/html": [
       "<style scoped>\n",
       "  .table-result-container {\n",
       "    max-height: 300px;\n",
       "    overflow: auto;\n",
       "  }\n",
       "  table, th, td {\n",
       "    border: 1px solid black;\n",
       "    border-collapse: collapse;\n",
       "  }\n",
       "  th, td {\n",
       "    padding: 5px;\n",
       "  }\n",
       "  th {\n",
       "    text-align: left;\n",
       "  }\n",
       "</style><div class='table-result-container'><table class='table-result'><thead style='background-color: white'><tr><th>season</th><th>avg_score_difference</th></tr></thead><tbody><tr><td>1930</td><td>0.2446814857680222</td></tr><tr><td>1931</td><td>0.2444339972936501</td></tr><tr><td>1932</td><td>0.25008824249593226</td></tr><tr><td>1933</td><td>0.2528003046522925</td></tr><tr><td>1934</td><td>0.2535800342952018</td></tr><tr><td>1935</td><td>0.24583617256197868</td></tr><tr><td>1936</td><td>0.25566002697620577</td></tr><tr><td>1937</td><td>0.25665834303677937</td></tr><tr><td>1938</td><td>0.25839419576984185</td></tr><tr><td>1939</td><td>0.2599753347483087</td></tr><tr><td>1940</td><td>0.2388782899647473</td></tr><tr><td>1941</td><td>0.24982923811132257</td></tr><tr><td>1942</td><td>0.2504095403605668</td></tr><tr><td>1943</td><td>0.24682608192617242</td></tr><tr><td>1944</td><td>0.24612991947953294</td></tr><tr><td>1945</td><td>0.24863690839094274</td></tr><tr><td>1946</td><td>0.2466786645534562</td></tr><tr><td>1947</td><td>0.2584003331709881</td></tr><tr><td>1948</td><td>0.25050442616144813</td></tr><tr><td>1949</td><td>0.2534183078274435</td></tr><tr><td>1950</td><td>0.2572450611789154</td></tr><tr><td>1951</td><td>0.24328574735162542</td></tr><tr><td>1952</td><td>0.2444982788297865</td></tr><tr><td>1953</td><td>0.24279200298744336</td></tr><tr><td>1954</td><td>0.23802575337148346</td></tr><tr><td>1955</td><td>0.2370833182229405</td></tr><tr><td>1956</td><td>0.24287788761986626</td></tr><tr><td>1957</td><td>0.2495814021428426</td></tr><tr><td>1958</td><td>0.2497490807972123</td></tr><tr><td>1959</td><td>0.25317163399437015</td></tr><tr><td>1960</td><td>0.23949797957071237</td></tr><tr><td>1961</td><td>0.24912249989446564</td></tr><tr><td>1962</td><td>0.2450507272753799</td></tr><tr><td>1963</td><td>0.2506886317139178</td></tr><tr><td>1964</td><td>0.25018600958250303</td></tr><tr><td>1965</td><td>0.2529327288917873</td></tr><tr><td>1966</td><td>0.24965853026482912</td></tr><tr><td>1967</td><td>0.24439129892703707</td></tr><tr><td>1968</td><td>0.23419445777727552</td></tr><tr><td>1969</td><td>0.23872348879500158</td></tr><tr><td>1980</td><td>0.24254311136531725</td></tr><tr><td>1981</td><td>0.24458193752734148</td></tr><tr><td>1982</td><td>0.2435340590194342</td></tr><tr><td>1983</td><td>0.2469676871831317</td></tr><tr><td>1984</td><td>0.2483544572369083</td></tr><tr><td>1985</td><td>0.2480523528633537</td></tr><tr><td>1986</td><td>0.2505033541666834</td></tr><tr><td>1987</td><td>0.2524739828567546</td></tr><tr><td>1988</td><td>0.25485914532756393</td></tr><tr><td>1989</td><td>0.2515395973483808</td></tr><tr><td>1990</td><td>0.2517546520362029</td></tr><tr><td>1991</td><td>0.25077890844559975</td></tr><tr><td>1992</td><td>0.24668393421370544</td></tr><tr><td>1993</td><td>0.2397182066290071</td></tr><tr><td>1994</td><td>0.2379256388055895</td></tr><tr><td>1995</td><td>0.25119773200217715</td></tr><tr><td>1996</td><td>0.24793486017733812</td></tr><tr><td>1997</td><td>0.2528609383708509</td></tr><tr><td>1998</td><td>0.2535436726613327</td></tr><tr><td>1999</td><td>0.24878692886755432</td></tr><tr><td>2010</td><td>0.2531142941562401</td></tr><tr><td>2011</td><td>0.25712047778267677</td></tr><tr><td>2012</td><td>0.24973664525613234</td></tr><tr><td>2013</td><td>0.26158813226311733</td></tr><tr><td>2014</td><td>0.2509274008773262</td></tr><tr><td>2015</td><td>0.2538862748070139</td></tr><tr><td>2016</td><td>0.2511225202424701</td></tr><tr><td>2017</td><td>0.2515390576425609</td></tr><tr><td>2018</td><td>0.2546809598528591</td></tr><tr><td>2019</td><td>0.25226900666205976</td></tr><tr><td>2020</td><td>0.21853124903570306</td></tr><tr><td>2021</td><td>0.12589339905676722</td></tr><tr><td>2022</td><td>0.24777367964206126</td></tr></tbody></table></div>"
      ]
     },
     "metadata": {
      "application/vnd.databricks.v1+output": {
       "addedWidgets": {},
       "aggData": [],
       "aggError": "",
       "aggOverflow": false,
       "aggSchema": [],
       "aggSeriesLimitReached": false,
       "aggType": "",
       "arguments": {},
       "columnCustomDisplayInfos": {},
       "data": [
        [
         1930,
         0.2446814857680222
        ],
        [
         1931,
         0.2444339972936501
        ],
        [
         1932,
         0.25008824249593226
        ],
        [
         1933,
         0.2528003046522925
        ],
        [
         1934,
         0.2535800342952018
        ],
        [
         1935,
         0.24583617256197868
        ],
        [
         1936,
         0.25566002697620577
        ],
        [
         1937,
         0.25665834303677937
        ],
        [
         1938,
         0.25839419576984185
        ],
        [
         1939,
         0.2599753347483087
        ],
        [
         1940,
         0.2388782899647473
        ],
        [
         1941,
         0.24982923811132257
        ],
        [
         1942,
         0.2504095403605668
        ],
        [
         1943,
         0.24682608192617242
        ],
        [
         1944,
         0.24612991947953294
        ],
        [
         1945,
         0.24863690839094274
        ],
        [
         1946,
         0.2466786645534562
        ],
        [
         1947,
         0.2584003331709881
        ],
        [
         1948,
         0.25050442616144813
        ],
        [
         1949,
         0.2534183078274435
        ],
        [
         1950,
         0.2572450611789154
        ],
        [
         1951,
         0.24328574735162542
        ],
        [
         1952,
         0.2444982788297865
        ],
        [
         1953,
         0.24279200298744336
        ],
        [
         1954,
         0.23802575337148346
        ],
        [
         1955,
         0.2370833182229405
        ],
        [
         1956,
         0.24287788761986626
        ],
        [
         1957,
         0.2495814021428426
        ],
        [
         1958,
         0.2497490807972123
        ],
        [
         1959,
         0.25317163399437015
        ],
        [
         1960,
         0.23949797957071237
        ],
        [
         1961,
         0.24912249989446564
        ],
        [
         1962,
         0.2450507272753799
        ],
        [
         1963,
         0.2506886317139178
        ],
        [
         1964,
         0.25018600958250303
        ],
        [
         1965,
         0.2529327288917873
        ],
        [
         1966,
         0.24965853026482912
        ],
        [
         1967,
         0.24439129892703707
        ],
        [
         1968,
         0.23419445777727552
        ],
        [
         1969,
         0.23872348879500158
        ],
        [
         1980,
         0.24254311136531725
        ],
        [
         1981,
         0.24458193752734148
        ],
        [
         1982,
         0.2435340590194342
        ],
        [
         1983,
         0.2469676871831317
        ],
        [
         1984,
         0.2483544572369083
        ],
        [
         1985,
         0.2480523528633537
        ],
        [
         1986,
         0.2505033541666834
        ],
        [
         1987,
         0.2524739828567546
        ],
        [
         1988,
         0.25485914532756393
        ],
        [
         1989,
         0.2515395973483808
        ],
        [
         1990,
         0.2517546520362029
        ],
        [
         1991,
         0.25077890844559975
        ],
        [
         1992,
         0.24668393421370544
        ],
        [
         1993,
         0.2397182066290071
        ],
        [
         1994,
         0.2379256388055895
        ],
        [
         1995,
         0.25119773200217715
        ],
        [
         1996,
         0.24793486017733812
        ],
        [
         1997,
         0.2528609383708509
        ],
        [
         1998,
         0.2535436726613327
        ],
        [
         1999,
         0.24878692886755432
        ],
        [
         2010,
         0.2531142941562401
        ],
        [
         2011,
         0.25712047778267677
        ],
        [
         2012,
         0.24973664525613234
        ],
        [
         2013,
         0.26158813226311733
        ],
        [
         2014,
         0.2509274008773262
        ],
        [
         2015,
         0.2538862748070139
        ],
        [
         2016,
         0.2511225202424701
        ],
        [
         2017,
         0.2515390576425609
        ],
        [
         2018,
         0.2546809598528591
        ],
        [
         2019,
         0.25226900666205976
        ],
        [
         2020,
         0.21853124903570306
        ],
        [
         2021,
         0.12589339905676722
        ],
        [
         2022,
         0.24777367964206126
        ]
       ],
       "datasetInfos": [],
       "dbfsResultPath": null,
       "isJsonSchema": true,
       "metadata": {},
       "overflow": false,
       "plotOptions": {
        "customPlotOptions": {},
        "displayType": "table",
        "pivotAggregation": null,
        "pivotColumns": null,
        "xColumns": null,
        "yColumns": null
       },
       "removedWidgets": [],
       "schema": [
        {
         "metadata": "{}",
         "name": "season",
         "type": "\"integer\""
        },
        {
         "metadata": "{}",
         "name": "avg_score_difference",
         "type": "\"double\""
        }
       ],
       "type": "table"
      }
     },
     "output_type": "display_data"
    },
    {
     "output_type": "display_data",
     "data": {
      "text/plain": [
       "Databricks visualization. Run in Databricks to view."
      ]
     },
     "metadata": {
      "application/vnd.databricks.v1.subcommand+json": {
       "baseErrorDetails": null,
       "bindings": {},
       "collapsed": false,
       "command": "%sql WITH q AS (SELECT season,\n       AVG(home_team_expected_points - away_team_expected_points) AS avg_score_difference\nFROM complete\nGROUP BY season\nORDER BY season) SELECT `season`,SUM(`avg_score_difference`) `column_2227f0476` FROM q GROUP BY `season`",
       "commandTitle": "Visualization 1",
       "commandType": "auto",
       "commandVersion": 0,
       "commentThread": [],
       "commentsVisible": false,
       "contentSha256Hex": null,
       "customPlotOptions": {
        "redashChart": [
         {
          "key": "type",
          "value": "CHART"
         },
         {
          "key": "options",
          "value": {
           "alignYAxesAtZero": true,
           "coefficient": 1,
           "columnConfigurationMap": {
            "x": {
             "column": "season",
             "id": "column_2227f0475"
            },
            "y": [
             {
              "column": "avg_score_difference",
              "id": "column_2227f0476",
              "transform": "SUM"
             }
            ]
           },
           "dateTimeFormat": "DD/MM/YYYY HH:mm",
           "direction": {
            "type": "counterclockwise"
           },
           "error_y": {
            "type": "data",
            "visible": true
           },
           "globalSeriesType": "line",
           "isAggregationOn": true,
           "legend": {
            "traceorder": "normal"
           },
           "missingValuesAsZero": true,
           "numberFormat": "0,0.[00000]",
           "percentFormat": "0[.]00%",
           "series": {
            "error_y": {
             "type": "data",
             "visible": true
            },
            "stacking": null
           },
           "seriesOptions": {
            "column_2227f0476": {
             "name": "avg_score_difference",
             "type": "line",
             "yAxis": 0
            }
           },
           "showDataLabels": false,
           "sizemode": "diameter",
           "sortX": true,
           "sortY": true,
           "swappedAxes": false,
           "textFormat": "",
           "useAggregationsUi": true,
           "valuesOptions": {},
           "version": 2,
           "xAxis": {
            "labels": {
             "enabled": true
            },
            "type": "-"
           },
           "yAxis": [
            {
             "type": "-"
            },
            {
             "opposite": true,
             "type": "-"
            }
           ]
          }
         }
        ]
       },
       "datasetPreviewNameToCmdIdMap": {},
       "diffDeletes": [],
       "diffInserts": [],
       "displayType": "redashChart",
       "error": null,
       "errorDetails": null,
       "errorSummary": null,
       "errorTraceType": null,
       "finishTime": 0,
       "globalVars": {},
       "guid": "",
       "height": "auto",
       "hideCommandCode": false,
       "hideCommandResult": false,
       "iPythonMetadata": null,
       "inputWidgets": {},
       "isLockedInExamMode": false,
       "latestUser": "a user",
       "latestUserId": null,
       "listResultMetadata": null,
       "metadata": {},
       "nuid": "9b241a2e-332e-45ba-a475-0f6919837af8",
       "origId": 0,
       "parentHierarchy": [],
       "pivotAggregation": null,
       "pivotColumns": null,
       "position": 10.125,
       "resultDbfsErrorMessage": null,
       "resultDbfsStatus": "INLINED_IN_TREE",
       "results": null,
       "showCommandTitle": false,
       "startTime": 0,
       "state": "input",
       "streamStates": {},
       "subcommandOptions": {
        "queryPlan": {
         "groups": [
          {
           "column": "season",
           "type": "column"
          }
         ],
         "selects": [
          {
           "column": "season",
           "type": "column"
          },
          {
           "alias": "column_2227f0476",
           "args": [
            {
             "column": "avg_score_difference",
             "type": "column"
            }
           ],
           "function": "SUM",
           "type": "function"
          }
         ]
        }
       },
       "submitTime": 0,
       "subtype": "tableResultSubCmd.visualization",
       "tableResultIndex": 0,
       "useConsistentColors": false,
       "version": "CommandV1",
       "width": "auto",
       "workflows": [],
       "xColumns": null,
       "yColumns": null
      }
     },
     "output_type": "display_data"
    }
   ],
   "source": [
    "%sql SELECT season,\n",
    "       AVG(home_team_expected_points - away_team_expected_points) AS avg_score_difference\n",
    "FROM complete\n",
    "GROUP BY season\n",
    "ORDER BY season;\n"
   ]
  },
  {
   "cell_type": "code",
   "execution_count": 0,
   "metadata": {
    "application/vnd.databricks.v1+cell": {
     "cellMetadata": {
      "byteLimit": 2048000,
      "rowLimit": 10000
     },
     "inputWidgets": {},
     "nuid": "3c12fdf0-dcec-4a0c-9f9a-15afb4cd71ef",
     "showTitle": false,
     "title": ""
    }
   },
   "outputs": [],
   "source": [
    "# la proporción de juegos que tienen una probabilidad de tiempo extra mayor a cierto umbral"
   ]
  },
  {
   "cell_type": "code",
   "execution_count": 0,
   "metadata": {
    "application/vnd.databricks.v1+cell": {
     "cellMetadata": {
      "byteLimit": 2048000,
      "implicitDf": true,
      "rowLimit": 10000
     },
     "inputWidgets": {},
     "nuid": "556c7f7e-7f52-49f2-b7b4-13c2d0048a00",
     "showTitle": false,
     "title": ""
    }
   },
   "outputs": [
    {
     "output_type": "display_data",
     "data": {
      "text/html": [
       "<style scoped>\n",
       "  .table-result-container {\n",
       "    max-height: 300px;\n",
       "    overflow: auto;\n",
       "  }\n",
       "  table, th, td {\n",
       "    border: 1px solid black;\n",
       "    border-collapse: collapse;\n",
       "  }\n",
       "  th, td {\n",
       "    padding: 5px;\n",
       "  }\n",
       "  th {\n",
       "    text-align: left;\n",
       "  }\n",
       "</style><div class='table-result-container'><table class='table-result'><thead style='background-color: white'><tr><th>overtime_prob_ratio</th></tr></thead><tbody><tr><td>0.8599370547006236</td></tr></tbody></table></div>"
      ]
     },
     "metadata": {
      "application/vnd.databricks.v1+output": {
       "addedWidgets": {},
       "aggData": [],
       "aggError": "",
       "aggOverflow": false,
       "aggSchema": [],
       "aggSeriesLimitReached": false,
       "aggType": "",
       "arguments": {},
       "columnCustomDisplayInfos": {},
       "data": [
        [
         0.8599370547006236
        ]
       ],
       "datasetInfos": [],
       "dbfsResultPath": null,
       "isJsonSchema": true,
       "metadata": {},
       "overflow": false,
       "plotOptions": {
        "customPlotOptions": {},
        "displayType": "table",
        "pivotAggregation": null,
        "pivotColumns": null,
        "xColumns": null,
        "yColumns": null
       },
       "removedWidgets": [],
       "schema": [
        {
         "metadata": "{}",
         "name": "overtime_prob_ratio",
         "type": "\"double\""
        }
       ],
       "type": "table"
      }
     },
     "output_type": "display_data"
    }
   ],
   "source": [
    "%sql SELECT AVG(CASE WHEN overtime_prob > 0.22 THEN 1 ELSE 0 END) AS overtime_prob_ratio\n",
    "FROM complete;\n"
   ]
  },
  {
   "cell_type": "code",
   "execution_count": 0,
   "metadata": {
    "application/vnd.databricks.v1+cell": {
     "cellMetadata": {
      "byteLimit": 2048000,
      "rowLimit": 10000
     },
     "inputWidgets": {},
     "nuid": "88f27518-b2e4-44e4-a2de-dfad9f66bd6d",
     "showTitle": false,
     "title": ""
    }
   },
   "outputs": [],
   "source": [
    "# calcular el porcentaje de juegos ganados por el equipo local en cada década"
   ]
  },
  {
   "cell_type": "code",
   "execution_count": 0,
   "metadata": {
    "application/vnd.databricks.v1+cell": {
     "cellMetadata": {
      "byteLimit": 2048000,
      "implicitDf": true,
      "rowLimit": 10000
     },
     "inputWidgets": {},
     "nuid": "0f467919-9a6b-4bdb-830f-1146c3a26287",
     "showTitle": false,
     "title": ""
    }
   },
   "outputs": [
    {
     "output_type": "display_data",
     "data": {
      "text/html": [
       "<style scoped>\n",
       "  .table-result-container {\n",
       "    max-height: 300px;\n",
       "    overflow: auto;\n",
       "  }\n",
       "  table, th, td {\n",
       "    border: 1px solid black;\n",
       "    border-collapse: collapse;\n",
       "  }\n",
       "  th, td {\n",
       "    padding: 5px;\n",
       "  }\n",
       "  th {\n",
       "    text-align: left;\n",
       "  }\n",
       "</style><div class='table-result-container'><table class='table-result'><thead style='background-color: white'><tr><th>decade</th><th>win_percentage</th></tr></thead><tbody><tr><td>1980</td><td>0.5262121046295283</td></tr><tr><td>1930</td><td>0.5222988505747126</td></tr><tr><td>2020</td><td>0.5332398316970547</td></tr><tr><td>1950</td><td>0.4988962472406181</td></tr><tr><td>1960</td><td>0.5295592977427446</td></tr><tr><td>1990</td><td>0.5018192263500575</td></tr><tr><td>2010</td><td>0.5460675919391516</td></tr><tr><td>1970</td><td>0.5271466509294778</td></tr><tr><td>1940</td><td>0.5455046883618312</td></tr><tr><td>1910</td><td>0.7285714285714285</td></tr><tr><td>1920</td><td>0.5197255574614065</td></tr></tbody></table></div>"
      ]
     },
     "metadata": {
      "application/vnd.databricks.v1+output": {
       "addedWidgets": {},
       "aggData": [],
       "aggError": "",
       "aggOverflow": false,
       "aggSchema": [],
       "aggSeriesLimitReached": false,
       "aggType": "",
       "arguments": {},
       "columnCustomDisplayInfos": {},
       "data": [
        [
         1980,
         0.5262121046295283
        ],
        [
         1930,
         0.5222988505747126
        ],
        [
         2020,
         0.5332398316970547
        ],
        [
         1950,
         0.4988962472406181
        ],
        [
         1960,
         0.5295592977427446
        ],
        [
         1990,
         0.5018192263500575
        ],
        [
         2010,
         0.5460675919391516
        ],
        [
         1970,
         0.5271466509294778
        ],
        [
         1940,
         0.5455046883618312
        ],
        [
         1910,
         0.7285714285714285
        ],
        [
         1920,
         0.5197255574614065
        ]
       ],
       "datasetInfos": [],
       "dbfsResultPath": null,
       "isJsonSchema": true,
       "metadata": {},
       "overflow": false,
       "plotOptions": {
        "customPlotOptions": {},
        "displayType": "table",
        "pivotAggregation": null,
        "pivotColumns": null,
        "xColumns": null,
        "yColumns": null
       },
       "removedWidgets": [],
       "schema": [
        {
         "metadata": "{}",
         "name": "decade",
         "type": "\"integer\""
        },
        {
         "metadata": "{}",
         "name": "win_percentage",
         "type": "\"double\""
        }
       ],
       "type": "table"
      }
     },
     "output_type": "display_data"
    },
    {
     "output_type": "display_data",
     "data": {
      "text/plain": [
       "Databricks visualization. Run in Databricks to view."
      ]
     },
     "metadata": {
      "application/vnd.databricks.v1.subcommand+json": {
       "baseErrorDetails": null,
       "bindings": {},
       "collapsed": false,
       "command": "%sql WITH q AS (SELECT decade,\n       AVG(CASE WHEN home_team_won = true THEN 1 ELSE 0 END) AS win_percentage\nFROM complete\nGROUP BY decade) SELECT `decade`,SUM(`win_percentage`) `column_2227f0472` FROM q GROUP BY `decade`",
       "commandTitle": "Visualization 1",
       "commandType": "auto",
       "commandVersion": 0,
       "commentThread": [],
       "commentsVisible": false,
       "contentSha256Hex": null,
       "customPlotOptions": {
        "redashChart": [
         {
          "key": "type",
          "value": "CHART"
         },
         {
          "key": "options",
          "value": {
           "alignYAxesAtZero": true,
           "coefficient": 1,
           "columnConfigurationMap": {
            "x": {
             "column": "decade",
             "id": "column_2227f0471"
            },
            "y": [
             {
              "column": "win_percentage",
              "id": "column_2227f0472",
              "transform": "SUM"
             }
            ]
           },
           "dateTimeFormat": "DD/MM/YYYY HH:mm",
           "direction": {
            "type": "counterclockwise"
           },
           "error_y": {
            "type": "data",
            "visible": true
           },
           "globalSeriesType": "line",
           "isAggregationOn": true,
           "legend": {
            "traceorder": "normal"
           },
           "missingValuesAsZero": true,
           "numberFormat": "0,0.[00000]",
           "percentFormat": "0[.]00%",
           "series": {
            "error_y": {
             "type": "data",
             "visible": true
            },
            "stacking": null
           },
           "seriesOptions": {
            "column_2227f0472": {
             "name": "win_percentage",
             "type": "line",
             "yAxis": 0
            }
           },
           "showDataLabels": false,
           "sizemode": "diameter",
           "sortX": true,
           "sortY": true,
           "swappedAxes": false,
           "textFormat": "",
           "useAggregationsUi": true,
           "valuesOptions": {},
           "version": 2,
           "xAxis": {
            "labels": {
             "enabled": true
            },
            "type": "-"
           },
           "yAxis": [
            {
             "type": "-"
            },
            {
             "opposite": true,
             "type": "-"
            }
           ]
          }
         }
        ]
       },
       "datasetPreviewNameToCmdIdMap": {},
       "diffDeletes": [],
       "diffInserts": [],
       "displayType": "redashChart",
       "error": null,
       "errorDetails": null,
       "errorSummary": null,
       "errorTraceType": null,
       "finishTime": 0,
       "globalVars": {},
       "guid": "",
       "height": "auto",
       "hideCommandCode": false,
       "hideCommandResult": false,
       "iPythonMetadata": null,
       "inputWidgets": {},
       "isLockedInExamMode": false,
       "latestUser": "a user",
       "latestUserId": null,
       "listResultMetadata": null,
       "metadata": {},
       "nuid": "0538e3fb-f918-4341-8f3c-bbdbbdc07315",
       "origId": 0,
       "parentHierarchy": [],
       "pivotAggregation": null,
       "pivotColumns": null,
       "position": 10.40625,
       "resultDbfsErrorMessage": null,
       "resultDbfsStatus": "INLINED_IN_TREE",
       "results": null,
       "showCommandTitle": false,
       "startTime": 0,
       "state": "input",
       "streamStates": {},
       "subcommandOptions": {
        "queryPlan": {
         "groups": [
          {
           "column": "decade",
           "type": "column"
          }
         ],
         "selects": [
          {
           "column": "decade",
           "type": "column"
          },
          {
           "alias": "column_2227f0472",
           "args": [
            {
             "column": "win_percentage",
             "type": "column"
            }
           ],
           "function": "SUM",
           "type": "function"
          }
         ]
        }
       },
       "submitTime": 0,
       "subtype": "tableResultSubCmd.visualization",
       "tableResultIndex": 0,
       "useConsistentColors": false,
       "version": "CommandV1",
       "width": "auto",
       "workflows": [],
       "xColumns": null,
       "yColumns": null
      }
     },
     "output_type": "display_data"
    }
   ],
   "source": [
    "%sql SELECT decade,\n",
    "       AVG(CASE WHEN home_team_won = true THEN 1 ELSE 0 END) AS win_percentage\n",
    "FROM complete\n",
    "GROUP BY decade;"
   ]
  },
  {
   "cell_type": "code",
   "execution_count": 0,
   "metadata": {
    "application/vnd.databricks.v1+cell": {
     "cellMetadata": {
      "byteLimit": 2048000,
      "rowLimit": 10000
     },
     "inputWidgets": {},
     "nuid": "7f173999-ceb5-482f-8f2c-1d809fd4e737",
     "showTitle": false,
     "title": ""
    }
   },
   "outputs": [],
   "source": [
    "from pyspark.ml.feature import VectorAssembler, StringIndexer\n",
    "from pyspark.ml.classification import LogisticRegression\n",
    "from pyspark.ml import Pipeline\n",
    "from pyspark.ml.evaluation import BinaryClassificationEvaluator, MulticlassClassificationEvaluator"
   ]
  },
  {
   "cell_type": "code",
   "execution_count": 0,
   "metadata": {
    "application/vnd.databricks.v1+cell": {
     "cellMetadata": {
      "byteLimit": 2048000,
      "rowLimit": 10000
     },
     "inputWidgets": {},
     "nuid": "bc02b7c9-d89c-44c6-8db6-170983b52815",
     "showTitle": false,
     "title": ""
    }
   },
   "outputs": [
    {
     "output_type": "stream",
     "name": "stdout",
     "output_type": "stream",
     "text": [
      "Area under ROC for batch 0: 0.6353853752141523\nAccuracy for batch 0: 0.6047671840354767\nPrecision for batch 0: 0.6039844432910839\nRecall for batch 0: 0.6047671840354767\nF1-score for batch 0: 0.6031505464224859\nModel parameters:\nCoefficients: [-0.0020178724478151612,0.001591696762640823,-8.389015554547072,8.38681508770717,6.480894061581912,3.9565221827605694,-3.6948711828597935]\nIntercept: -1.0360210883428154\nArea under ROC for batch 1: 0.6200465574357594\nAccuracy for batch 1: 0.5901639344262295\nPrecision for batch 1: 0.5885382219148065\nRecall for batch 1: 0.5901639344262295\nF1-score for batch 1: 0.588972596083005\nModel parameters:\nCoefficients: [-0.005326446030418907,0.004448778384070917,-3.348293725681086,3.3451871769345973,11.845774284890236,1.3959111081445763,-1.6350059470519593]\nIntercept: -1.2223061970536993\nArea under ROC for batch 2: 0.6284243140226908\nAccuracy for batch 2: 0.5754716981132075\nPrecision for batch 2: 0.5745458645882745\nRecall for batch 2: 0.5754716981132075\nF1-score for batch 2: 0.5708053913232725\nModel parameters:\nCoefficients: [-0.004448057337653465,0.003329638066565059,33.94264761159053,-33.951350016022154,-1.399473743047855,-20.630064691412013,18.957320047193328]\nIntercept: 3.9514087882666717\nArea under ROC for batch 3: 0.6229545834029052\nAccuracy for batch 3: 0.5844748858447488\nPrecision for batch 3: 0.5850727965846729\nRecall for batch 3: 0.5844748858447488\nF1-score for batch 3: 0.5845788711085516\nModel parameters:\nCoefficients: [-0.007508021401670955,0.008566151710004206,-20.305247007359082,20.304389762676106,-4.353564676315895,14.973339220963314,-13.961100128802588]\nIntercept: -2.4944101292230907\nArea under ROC for batch 4: 0.6234917324594075\nAccuracy for batch 4: 0.5895953757225434\nPrecision for batch 4: 0.5884779031230375\nRecall for batch 4: 0.5895953757225434\nF1-score for batch 4: 0.5832276981313719\nModel parameters:\nCoefficients: [0.006206098505399636,-0.00721927411369576,-112.66927555900466,112.66431039900648,18.76520932683813,62.9471161983664,-58.752114180441694]\nIntercept: -7.019867249248394\nArea under ROC for batch 5: 0.6034361021773686\nAccuracy for batch 5: 0.5785679961556944\nPrecision for batch 5: 0.5801837426610861\nRecall for batch 5: 0.5785679961556944\nF1-score for batch 5: 0.57811465260195\nModel parameters:\nCoefficients: [0.0024475507140181265,-0.0023485450082901434,44.827923463215924,-44.82786168242479,-4.180214260776383,-27.895398523982273,26.096697409046755]\nIntercept: 3.2687766936919167\nArea under ROC for batch 6: 0.5747577519379848\nAccuracy for batch 6: 0.563721657544957\nPrecision for batch 6: 0.5546546098967405\nRecall for batch 6: 0.563721657544957\nF1-score for batch 6: 0.5540395577940951\nModel parameters:\nCoefficients: [-0.009623836710225759,0.009471742917017995,0.9777016209777347,-0.9776983388461205,13.362154191160995,0.5210516819949932,-0.4386502467960493]\nIntercept: -3.4058502454309925\nArea under ROC for batch 7: 0.6988528330586891\nAccuracy for batch 7: 0.6890756302521008\nPrecision for batch 7: 0.6899743931415361\nRecall for batch 7: 0.6890756302521008\nF1-score for batch 7: 0.6833950742926929\nModel parameters:\nCoefficients: [0.004631321511229014,-0.006452086253551822,84.7294721512427,-84.72379037251908,-0.2975046776652461,-52.04849214914256,48.402989812876434]\nIntercept: 7.333076190968896\nArea under ROC for batch 8: 0.7230032243205884\nAccuracy for batch 8: 0.6623672230652504\nPrecision for batch 8: 0.6678825534548322\nRecall for batch 8: 0.6623672230652504\nF1-score for batch 8: 0.6603507732141981\nModel parameters:\nCoefficients: [0.0029799187876892765,-0.002606771112730629,31.1138670762387,-31.11355346490781,-5.084881379817657,-20.213801130707452,19.21831088265511]\nIntercept: 2.1041829139163677\nArea under ROC for batch 9: 0.484375\nAccuracy for batch 9: 0.5\nPrecision for batch 9: 0.25\nRecall for batch 9: 0.5\nF1-score for batch 9: 0.3333333333333333\nModel parameters:\nCoefficients: [625.4294066810085,-625.410931511862,573096.4674414331,-574011.2727469926,3694531.755187164,-332236.9704318044,304672.97705606336]\nIntercept: -838071.8450779539\nArea under ROC for batch 10: 0.6045321637426897\nAccuracy for batch 10: 0.5683760683760684\nPrecision for batch 10: 0.5808427834571626\nRecall for batch 10: 0.5683760683760684\nF1-score for batch 10: 0.5580252009901514\nModel parameters:\nCoefficients: [-0.022688644135900417,0.021347131710722576,-127.5426513081723,127.54191768100112,-14.652383010142435,76.92603116124431,-71.67917208629306]\nIntercept: -1.2354403347769884\nArea under ROC for batch 11: 0.6103178238771463\nAccuracy for batch 11: 0.5913154533844189\nPrecision for batch 11: 0.5899045699068505\nRecall for batch 11: 0.5913154533844189\nF1-score for batch 11: 0.5877693865026729\nModel parameters:\nCoefficients: [0.0003304046459628406,-0.0010600324584404308,9.285626350186888,-9.287033023848702,-3.376950272998785,-6.948668062771906,6.430502192959107]\nIntercept: 2.7497259087223673\n"
     ]
    },
    {
     "output_type": "display_data",
     "data": {
      "text/html": [
       "<style scoped>\n",
       "  .ansiout {\n",
       "    display: block;\n",
       "    unicode-bidi: embed;\n",
       "    white-space: pre-wrap;\n",
       "    word-wrap: break-word;\n",
       "    word-break: break-all;\n",
       "    font-family: \"Menlo\", \"Monaco\", \"Consolas\", \"Ubuntu Mono\", \"Source Code Pro\", monospace;\n",
       "    font-size: 13px;\n",
       "    color: #555;\n",
       "    margin-left: 4px;\n",
       "    line-height: 19px;\n",
       "  }\n",
       "</style>"
      ]
     },
     "metadata": {
      "application/vnd.databricks.v1+output": {
       "arguments": {},
       "data": "",
       "errorSummary": "Cancelled",
       "errorTraceType": "html",
       "metadata": {},
       "type": "ipynbError"
      }
     },
     "output_type": "display_data"
    }
   ],
   "source": [
    "# Paso 4: Preprocesar los datos en streaming\n",
    "label_indexer = StringIndexer(inputCol=\"home_team_won\", outputCol=\"label\")\n",
    "feature_columns = [\"home_team_pregame_rating\", \"away_team_pregame_rating\", \"home_team_winprob\", \n",
    "                   \"away_team_winprob\", \"overtime_prob\", \"home_team_expected_points\", \n",
    "                   \"away_team_expected_points\"]\n",
    "assembler = VectorAssembler(inputCols=feature_columns, outputCol=\"features\")\n",
    "\n",
    "# Crear un pipeline de preprocesamiento\n",
    "preprocessing_pipeline = Pipeline(stages=[label_indexer, assembler])\n",
    "\n",
    "# Paso 5: Entrenar y actualizar el modelo en tiempo real\n",
    "def train_and_evaluate_model(microbatch_df, batch_id):\n",
    "    # Preprocesar el microbatch\n",
    "    preprocessed_data = preprocessing_pipeline.fit(microbatch_df).transform(microbatch_df)\n",
    "    \n",
    "    # Dividir los datos en conjuntos de entrenamiento y prueba\n",
    "    train_data, test_data = preprocessed_data.randomSplit([0.8, 0.2], seed=1234)\n",
    "    \n",
    "    # Construir y entrenar el modelo\n",
    "    lr = LogisticRegression(featuresCol=\"features\", labelCol=\"label\")\n",
    "    lr_model = lr.fit(train_data)\n",
    "    \n",
    "    # Evaluar el modelo\n",
    "    predictions = lr_model.transform(test_data)\n",
    "    evaluator = BinaryClassificationEvaluator(rawPredictionCol=\"rawPrediction\", labelCol=\"label\", metricName=\"areaUnderROC\")\n",
    "    roc_auc = evaluator.evaluate(predictions)\n",
    "    print(f\"Area under ROC for batch {batch_id}: {roc_auc}\")\n",
    "\n",
    "\n",
    "    # Multiclass Classification Evaluator para precisión, recall y F1-score\n",
    "    multi_evaluator = MulticlassClassificationEvaluator(predictionCol=\"prediction\", labelCol=\"label\")\n",
    "    \n",
    "    accuracy = multi_evaluator.evaluate(predictions, {multi_evaluator.metricName: \"accuracy\"})\n",
    "    precision = multi_evaluator.evaluate(predictions, {multi_evaluator.metricName: \"weightedPrecision\"})\n",
    "    recall = multi_evaluator.evaluate(predictions, {multi_evaluator.metricName: \"weightedRecall\"})\n",
    "    f1 = multi_evaluator.evaluate(predictions, {multi_evaluator.metricName: \"f1\"})\n",
    "\n",
    "    print(f\"Accuracy for batch {batch_id}: {accuracy}\")\n",
    "    print(f\"Precision for batch {batch_id}: {precision}\")\n",
    "    print(f\"Recall for batch {batch_id}: {recall}\")\n",
    "    print(f\"F1-score for batch {batch_id}: {f1}\")\n",
    "    \n",
    "    # Acceder a los parámetros del modelo\n",
    "    print(\"Model parameters:\")\n",
    "    print(f\"Coefficients: {lr_model.coefficients}\")\n",
    "    print(f\"Intercept: {lr_model.intercept}\")\n",
    "\n",
    "# Aplicar la función de entrenamiento en cada microbatch\n",
    "streaming_query = streamingInputDF.writeStream.foreachBatch(train_and_evaluate_model).start()\n",
    "\n",
    "# Esperar a que la transmisión termine\n",
    "streaming_query.awaitTermination()\n"
   ]
  },
  {
   "cell_type": "code",
   "execution_count": 0,
   "metadata": {
    "application/vnd.databricks.v1+cell": {
     "cellMetadata": {},
     "inputWidgets": {},
     "nuid": "00dea694-bad0-4cff-be9a-96aec22349e9",
     "showTitle": false,
     "title": ""
    }
   },
   "outputs": [],
   "source": []
  }
 ],
 "metadata": {
  "application/vnd.databricks.v1+notebook": {
   "dashboards": [],
   "environmentMetadata": null,
   "language": "python",
   "notebookMetadata": {
    "mostRecentlyExecutedCommandWithImplicitDF": {
     "commandId": 369404307779628,
     "dataframes": [
      "_sqldf"
     ]
    },
    "pythonIndentUnit": 4
   },
   "notebookName": "proYECTO",
   "widgets": {}
  }
 },
 "nbformat": 4,
 "nbformat_minor": 0
}
